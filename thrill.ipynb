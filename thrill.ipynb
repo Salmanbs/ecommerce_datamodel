{
 "cells": [
  {
   "attachments": {},
   "cell_type": "markdown",
   "metadata": {},
   "source": [
    "thrill\n",
    "\n",
    "customers \n",
    "\n",
    "pk --- primary key fk foreign key\n",
    "\n",
    "email\n",
    "customer_id  uuid pk\n",
    "customer_name varchar\n",
    "phone  int\n",
    "gender varchar\n",
    "date_of_birth date\n",
    "\n",
    "\n",
    "tours\n",
    " \n",
    "tour_id uuid pk\n",
    "tour_place varchar\n",
    "tour_detais varchar\n",
    "price money\n",
    "category_id uuid fk\n",
    "duration dates\n",
    "\n",
    "\n",
    "\n",
    "activities\n",
    "\n",
    "activity_id uuid pk\n",
    "activity_place varchar\n",
    "price money\n",
    "category_id uuid fk\n",
    "duration time\n",
    "\n",
    "\n",
    "staycations\n",
    "\n",
    "staycation_id uuid pk\n",
    "staycation_price money\n",
    "stayacation_place varchar\n",
    "\n",
    "\n",
    "rental\n",
    "\n",
    "rental_id uuid pk\n",
    "rental_place varchar\n",
    "rental_price money\n",
    "renal_details varchar\n",
    "\n",
    "\n",
    "Catgeory\n",
    "\n",
    "category_id uuid fk\n",
    "catgegory_details varchar\n",
    "category_price money\n",
    "\n",
    "\n",
    "Orders\n",
    "\n",
    "order_id uuid pk\n",
    "tour_id fk\n",
    "activity_id fk\n",
    "staycation_id fk\n",
    "rental_id fk\n",
    "customer_id fk\n"
   ]
  }
 ],
 "metadata": {
  "kernelspec": {
   "display_name": "Python 3",
   "language": "python",
   "name": "python3"
  },
  "language_info": {
   "name": "python",
   "version": "3.9.10 (tags/v3.9.10:f2f3f53, Jan 17 2022, 15:14:21) [MSC v.1929 64 bit (AMD64)]"
  },
  "orig_nbformat": 4,
  "vscode": {
   "interpreter": {
    "hash": "03b5b8fec4a2bbd5cb6171e9caea6a2d35c249a546a18afa4d66b9b1adcb6f9b"
   }
  }
 },
 "nbformat": 4,
 "nbformat_minor": 2
}
